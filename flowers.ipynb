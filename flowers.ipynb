{
 "cells": [
  {
   "cell_type": "code",
   "execution_count": 1,
   "metadata": {},
   "outputs": [
    {
     "name": "stderr",
     "output_type": "stream",
     "text": [
      "/ccs/home/shubhankar/summitdev/anaconda3/lib/python3.6/site-packages/h5py/__init__.py:36: FutureWarning: Conversion of the second argument of issubdtype from `float` to `np.floating` is deprecated. In future, it will be treated as `np.float64 == np.dtype(float).type`.\n",
      "  from ._conv import register_converters as _register_converters\n",
      "Using TensorFlow backend.\n"
     ]
    }
   ],
   "source": [
    "import pandas as pd\n",
    "import numpy as np\n",
    "import matplotlib.pyplot as plt\n",
    "# import seaborn as sns\n",
    "import ipdb\n",
    "import tensorflow as tf\n",
    "from keras.backend import set_session\n",
    "from keras.utils import multi_gpu_model\n",
    "\n",
    "# import horovod.keras as hvd\n",
    "import math\n",
    "# Horovod: initialize Horovod.\n",
    "# hvd.init()"
   ]
  },
  {
   "cell_type": "code",
   "execution_count": 2,
   "metadata": {},
   "outputs": [],
   "source": [
    "#setting tf options to avoid hogging gpu memory\n",
    "config = tf.ConfigProto()\n",
    "config.gpu_options.allow_growth = True\n",
    "# config.gpu_options.visible_device_list = str(hvd.local_rank())\n",
    "\n",
    "set_session(tf.Session(config=config))"
   ]
  },
  {
   "cell_type": "code",
   "execution_count": 3,
   "metadata": {},
   "outputs": [],
   "source": [
    "# train_data = pd.read_csv('/mnt/GATES/rnd_data/data/train.csv') # S Mapper 5\n",
    "train_data = pd.read_csv('/gpfs/alpine/gen011/world-shared/data/train.csv')  # Summit/SummitDev\n",
    "\n",
    "classes, counts = np.unique(train_data.category, return_counts = True)\n",
    "# plt.figure(figsize=(20,10))\n",
    "# ax = sns.distplot(train_data.category)\n",
    "# plt.xticks(np.arange(min(classes), max(classes)+1, 10))"
   ]
  },
  {
   "cell_type": "code",
   "execution_count": 4,
   "metadata": {},
   "outputs": [
    {
     "data": {
      "text/plain": [
       "72"
      ]
     },
     "execution_count": 4,
     "metadata": {},
     "output_type": "execute_result"
    }
   ],
   "source": [
    "train_data.head(5)\n",
    "int(train_data.loc[train_data['image_id'] == 3, 'category'])"
   ]
  },
  {
   "cell_type": "code",
   "execution_count": 5,
   "metadata": {},
   "outputs": [
    {
     "data": {
      "text/plain": [
       "<BarContainer object of 102 artists>"
      ]
     },
     "execution_count": 5,
     "metadata": {},
     "output_type": "execute_result"
    },
    {
     "data": {
      "image/png": "[encoded data removed]",
      "text/plain": [
       "<Figure size 1440x720 with 1 Axes>"
      ]
     },
     "metadata": {
      "needs_background": "light"
     },
     "output_type": "display_data"
    }
   ],
   "source": [
    "plt.figure(figsize=(20,10))\n",
    "plt.bar(classes,counts)"
   ]
  },
  {
   "cell_type": "code",
   "execution_count": 6,
   "metadata": {},
   "outputs": [
    {
     "data": {
      "text/plain": [
       "582"
      ]
     },
     "execution_count": 6,
     "metadata": {},
     "output_type": "execute_result"
    }
   ],
   "source": [
    "np.max(counts)"
   ]
  },
  {
   "cell_type": "code",
   "execution_count": 7,
   "metadata": {},
   "outputs": [],
   "source": [
    "from sklearn.model_selection import train_test_split\n",
    "\n",
    "train_df, val_df = train_test_split(train_data, test_size=0.2, random_state=10, stratify=train_data.category.values)"
   ]
  },
  {
   "cell_type": "code",
   "execution_count": 8,
   "metadata": {},
   "outputs": [
    {
     "data": {
      "text/plain": [
       "<BarContainer object of 102 artists>"
      ]
     },
     "execution_count": 8,
     "metadata": {},
     "output_type": "execute_result"
    },
    {
     "data": {
      "image/png": "[encoded data removed]",
      "text/plain": [
       "<Figure size 432x288 with 1 Axes>"
      ]
     },
     "metadata": {
      "needs_background": "light"
     },
     "output_type": "display_data"
    }
   ],
   "source": [
    "val_classes, val_counts = np.unique(val_df.category, return_counts=True)\n",
    "plt.bar(val_classes,val_counts)"
   ]
  },
  {
   "cell_type": "code",
   "execution_count": 9,
   "metadata": {},
   "outputs": [
    {
     "data": {
      "text/plain": [
       "<BarContainer object of 102 artists>"
      ]
     },
     "execution_count": 9,
     "metadata": {},
     "output_type": "execute_result"
    },
    {
     "data": {
      "image/png": "[encoded data removed]",
      "text/plain": [
       "<Figure size 432x288 with 1 Axes>"
      ]
     },
     "metadata": {
      "needs_background": "light"
     },
     "output_type": "display_data"
    }
   ],
   "source": [
    "train_classes, train_counts = np.unique(train_df.category, return_counts=True)\n",
    "plt.bar(train_classes,train_counts)"
   ]
  },
  {
   "cell_type": "code",
   "execution_count": 10,
   "metadata": {},
   "outputs": [],
   "source": [
    "import glob2\n",
    "\n",
    "def get_fnames(df, part, data_path, ext='.jpg'):\n",
    "    \n",
    "    #all_fnames = glob2.glob(data_path+part+'/*'+ext)\n",
    "    all_fnames=[]\n",
    "    for img_id in df.image_id.values:\n",
    "        all_fnames.append(data_path+part+'/'+str(img_id)+ext)\n",
    "        \n",
    "    return all_fnames"
   ]
  },
  {
   "cell_type": "code",
   "execution_count": 11,
   "metadata": {},
   "outputs": [],
   "source": [
    "# Creating Data Generator class\n",
    "\n",
    "\"\"\"\n",
    "This class reads data based on filenames and returns normalised Image arrays and labels.\n",
    "Labels can be of type Mask images or Integer counts.\n",
    "Mask images are normalised and returned as well.\n",
    "\"\"\"\n",
    "\n",
    "from keras.utils import Sequence\n",
    "from keras.utils import to_categorical\n",
    "from PIL import Image\n",
    "        \n",
    "class data_generator(Sequence):\n",
    "    def __init__(self, filenames_set, batch_size, data_frame):\n",
    "        self.filenames = filenames_set\n",
    "        self.batch_size = batch_size\n",
    "        self.df = data_frame\n",
    "        self.n = 0\n",
    "        self.max = self.__len__()\n",
    "        \n",
    "    def get_data(self, filename):\n",
    "        \n",
    "        img = np.asarray(Image.open(filename))\n",
    "        img_id = int(filename.split('/')[-1].split('.')[0])\n",
    "        label = int(self.df.loc[self.df['image_id'] == img_id, 'category'])\n",
    "        \n",
    "        return img, label\n",
    "\n",
    "    def __len__(self):\n",
    "        return int(np.ceil(len(self.filenames) / float(self.batch_size)))\n",
    "\n",
    "    def __getitem__(self, idx):\n",
    "        batch_files = self.filenames[idx * self.batch_size:(idx + 1) * self.batch_size]\n",
    "\n",
    "        # read your data here using the batch lists, batch_x and batch_y\n",
    "        img_array = []\n",
    "        label_array = []\n",
    "        for filename in batch_files:\n",
    "            img, label = self.get_data(filename)\n",
    "            img_array.append(img)\n",
    "            label_array.append(label)\n",
    "        \n",
    "        img_array = np.asarray(img_array)\n",
    "        label_array = np.asarray(label_array)\n",
    "        label_array = to_categorical(label_array, num_classes=102, dtype='int8')\n",
    "        \n",
    "        return img_array, label_array\n",
    "            \n",
    "    \n",
    "    def __next__(self):\n",
    "        if self.n >= self.max:\n",
    "            self.n = 0\n",
    "        result = self.__getitem__(self.n)\n",
    "        self.n += 1\n",
    "        return result"
   ]
  },
  {
   "cell_type": "code",
   "execution_count": 12,
   "metadata": {},
   "outputs": [],
   "source": [
    "import glob2\n",
    "\n",
    "# train_filenames_set = get_fnames(train_df, part='train',data_path='/mnt/GATES/rnd_data/data/') # S Mapper 5\n",
    "train_filenames_set = get_fnames(train_df, part='train',data_path='/gpfs/alpine/gen011/world-shared/data/') # Summit/SummitDev\n",
    "train_generator = data_generator(train_filenames_set, batch_size=58, data_frame=train_df)"
   ]
  },
  {
   "cell_type": "code",
   "execution_count": 13,
   "metadata": {},
   "outputs": [],
   "source": [
    "# val_filenames_set = get_fnames(val_df, part='train',data_path='/mnt/GATES/rnd_data/data/') # S Mapper 5\n",
    "val_filenames_set = get_fnames(val_df, part='train',data_path='/gpfs/alpine/gen011/world-shared/data/') # Summit/SummitDev\n",
    "val_generator = data_generator(val_filenames_set, batch_size=58, data_frame=val_df)"
   ]
  },
  {
   "cell_type": "code",
   "execution_count": 14,
   "metadata": {},
   "outputs": [
    {
     "name": "stdout",
     "output_type": "stream",
     "text": [
      "(58, 102)\n"
     ]
    }
   ],
   "source": [
    "img, labels = next(val_generator)\n",
    "print(labels.shape)"
   ]
  },
  {
   "cell_type": "code",
   "execution_count": 15,
   "metadata": {},
   "outputs": [],
   "source": [
    "#keras model related imports\n",
    "import tensorflow as tf\n",
    "from keras.layers import *\n",
    "from keras.models import Model, load_model\n",
    "from keras.applications import ResNet50, DenseNet121\n",
    "from keras_contrib.callbacks import TensorBoardGrouped\n",
    "from keras.regularizers import Regularizer, l1, l1_l2, l2\n",
    "from keras import regularizers\n",
    "from keras.backend.tensorflow_backend import set_session\n",
    "from keras.callbacks import TensorBoard, LearningRateScheduler, ReduceLROnPlateau,ModelCheckpoint,CSVLogger,EarlyStopping\n",
    "from keras.optimizers import Adam, SGD\n"
   ]
  },
  {
   "cell_type": "code",
   "execution_count": 16,
   "metadata": {},
   "outputs": [],
   "source": [
    "def get_model(base_model):\n",
    "    \n",
    "    model_in = base_model.output\n",
    "    conv_add1 = Conv2D(2048, kernel_size=(3,3), strides=(2,2))(model_in)\n",
    "    bn_add1 = BatchNormalization()(conv_add1)\n",
    "    act_add1 = Activation('relu')(bn_add1)\n",
    "    flat = Flatten()(act_add1)\n",
    "    den1 = Dense(1024)(flat)\n",
    "    out = Dense(102, activation='softmax')(den1)\n",
    "    model = Model(inputs=base_model.input, outputs = out)\n",
    "    opt = Adam(lr = 1e-3 ) #* hvd.size())\n",
    "#     opt = hvd.DistributedOptimizer(opt)\n",
    "    model = multi_gpu_model(model, gpus=4)\n",
    "    model.compile(loss='categorical_crossentropy', optimizer=opt, metrics=['accuracy'])\n",
    "    \n",
    "    return model"
   ]
  },
  {
   "cell_type": "code",
   "execution_count": 17,
   "metadata": {},
   "outputs": [
    {
     "name": "stdout",
     "output_type": "stream",
     "text": [
      "WARNING:tensorflow:From /ccs/home/shubhankar/summitdev/anaconda3/lib/python3.6/site-packages/tensorflow/python/framework/op_def_library.py:263: colocate_with (from tensorflow.python.framework.ops) is deprecated and will be removed in a future version.\n",
      "Instructions for updating:\n",
      "Colocations handled automatically by placer.\n"
     ]
    },
    {
     "name": "stderr",
     "output_type": "stream",
     "text": [
      "/ccs/home/shubhankar/summitdev/anaconda3/lib/python3.6/site-packages/keras_applications/resnet50.py:265: UserWarning: The output shape of `ResNet50(include_top=False)` has been changed since Keras 2.2.0.\n",
      "  warnings.warn('The output shape of `ResNet50(include_top=False)` '\n"
     ]
    }
   ],
   "source": [
    "resnet_model = get_model(ResNet50(include_top=False, weights='imagenet', input_shape=(500,500,3), pooling=None, classes=102))"
   ]
  },
  {
   "cell_type": "code",
   "execution_count": 18,
   "metadata": {},
   "outputs": [],
   "source": [
    "# resnet_model.summary()"
   ]
  },
  {
   "cell_type": "code",
   "execution_count": 19,
   "metadata": {},
   "outputs": [
    {
     "name": "stdout",
     "output_type": "stream",
     "text": [
      "WARNING:tensorflow:From /ccs/home/shubhankar/summitdev/anaconda3/lib/python3.6/site-packages/tensorflow/python/ops/math_ops.py:3066: to_int32 (from tensorflow.python.ops.math_ops) is deprecated and will be removed in a future version.\n",
      "Instructions for updating:\n",
      "Use tf.cast instead.\n",
      "Epoch 1/100\n"
     ]
    }
   ],
   "source": [
    "from time import gmtime, strftime\n",
    "\n",
    "epochs = 100 #int(math.ceil(100.0 / hvd.size()))\n",
    "\n",
    "\n",
    "#Define all callbacks to the keras model\n",
    "\n",
    "# tb_dir = \"/mnt/GATES/rnd_data/logs/resnet50/\"+ strftime(\"%Y-%m-%d-gmt-%H-%M-%S\", gmtime()) # S Mapper 5\n",
    "tb_dir = \"/gpfs/alpine/gen011/world-shared/shubhankar/logs/resnet50/\"+ strftime(\"%Y-%m-%d-gmt-%H-%M-%S\", gmtime())  # Summit/SummitDev\n",
    "tb_callback = TensorBoardGrouped(log_dir=tb_dir, histogram_freq=0, batch_size=1187, write_graph=False, write_grads=False, write_images=False, embeddings_freq=0, embeddings_layer_names=None, embeddings_metadata=None, embeddings_data=None, update_freq='epoch')\n",
    "\n",
    "lr_callback = ReduceLROnPlateau(monitor='val_loss', factor=0.5, patience=5, min_lr=0.000001)\n",
    "# csv_logger = CSVLogger('/mnt/GATES/rnd_data/logs/resnet50/training_log'+ strftime(\"%Y-%m-%d-gmt-%H-%M-%S\", gmtime())+'.csv') # S Mapper 5\n",
    "csv_logger = CSVLogger('/gpfs/alpine/gen011/world-shared/shubhankar/logs/resnet50/training_log'+ strftime(\"%Y-%m-%d-gmt-%H-%M-%S\", gmtime())+'.csv') # Summit/SummitDev\n",
    "\n",
    "\n",
    "# ckpt_callback = ModelCheckpoint('/mnt/GATES/rnd_data/models/resnet50/resnet_model'+strftime(\"%Y-%m-%d-gmt-%H-%M-%S\", gmtime())+'.hdf5', monitor='val_loss', verbose=1, save_best_only=True, mode='min') # S Mapper 5\n",
    "\n",
    "ckpt_callback = ModelCheckpoint('/gpfs/alpine/gen011/world-shared/shubhankar/flower_models/resnet50/resnet_model'+strftime(\"%Y-%m-%d-gmt-%H-%M-%S\", gmtime())+'.hdf5', monitor='val_loss', verbose=1, save_best_only=True, mode='min')  # Summit/SummitDev\n",
    "\n",
    "# hvd_callback =  hvd.callbacks.BroadcastGlobalVariablesCallback(0),\n",
    "\n",
    "el_stp_callback = EarlyStopping(monitor='val_loss', min_delta=0, patience=20, verbose=0, mode='auto', baseline=None, restore_best_weights=True)\n",
    "\n",
    "# clr_callback = CyclicLR(base_lr=1e-3, max_lr=1e-5,\n",
    "#                                 step_size=10., mode='triangular2')\n",
    "\n",
    "clbk_list=[tb_callback, lr_callback, ckpt_callback, csv_logger]\n",
    "\n",
    "# if hvd.rank() == 0:\n",
    "#     clbk_list.append(ckpt_callback)\n",
    "\n",
    "#Model fitting on training data\n",
    "resnet_history = resnet_model.fit_generator(train_generator, steps_per_epoch=None, epochs=epochs, verbose=1, callbacks=clbk_list, validation_data=val_generator)"
   ]
  }
 ],
 "metadata": {
  "kernelspec": {
   "display_name": "Python 3",
   "language": "python",
   "name": "python3"
  },
  "language_info": {
   "codemirror_mode": {
    "name": "ipython",
    "version": 3
   },
   "file_extension": ".py",
   "mimetype": "text/x-python",
   "name": "python",
   "nbconvert_exporter": "python",
   "pygments_lexer": "ipython3",
   "version": "3.6.8"
  }
 },
 "nbformat": 4,
 "nbformat_minor": 4
}
